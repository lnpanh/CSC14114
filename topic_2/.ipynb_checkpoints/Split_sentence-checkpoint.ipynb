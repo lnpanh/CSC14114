{
 "cells": [
  {
   "cell_type": "code",
   "execution_count": 1,
   "id": "a636c8b9",
   "metadata": {},
   "outputs": [],
   "source": [
    "import json\n",
    "import re"
   ]
  },
  {
   "cell_type": "code",
   "execution_count": 2,
   "id": "44a37c47",
   "metadata": {},
   "outputs": [],
   "source": [
    "with open('./cmt.json') as f:\n",
    "    data = json.load(f)"
   ]
  },
  {
   "cell_type": "code",
   "execution_count": 3,
   "id": "8bc7ea51",
   "metadata": {},
   "outputs": [],
   "source": [
    "punc = '[.?!\\n]'\n",
    "def split_sentence(d):\n",
    "    d = ' '.join([w for w in d.split('\\t') if len(w.strip()) > 0])\n",
    "    data = [s.strip() for s in re.split(punc, d) if len(s.strip()) > 0]\n",
    "    return data"
   ]
  },
  {
   "cell_type": "code",
   "execution_count": 4,
   "id": "51225c69",
   "metadata": {},
   "outputs": [],
   "source": [
    "for k,d in data.items():\n",
    "    data[k]=[d[0],split_sentence(d[1])]"
   ]
  },
  {
   "cell_type": "code",
   "execution_count": 5,
   "id": "03d87118",
   "metadata": {},
   "outputs": [],
   "source": [
    "to_csv = []\n",
    "for k,doc in data.items():\n",
    "    for s in doc[1]:\n",
    "        to_csv.append('\\t'.join([k,doc[0],s])+'\\n')"
   ]
  },
  {
   "cell_type": "code",
   "execution_count": 6,
   "id": "4c0228d6",
   "metadata": {},
   "outputs": [],
   "source": [
    "with open('./split_s.tsv','w') as f:\n",
    "    f.writelines(to_csv)"
   ]
  },
  {
   "cell_type": "code",
   "execution_count": null,
   "id": "e5c439b9",
   "metadata": {},
   "outputs": [],
   "source": []
  }
 ],
 "metadata": {
  "kernelspec": {
   "display_name": "Python 3 (ipykernel)",
   "language": "python",
   "name": "python3"
  },
  "language_info": {
   "codemirror_mode": {
    "name": "ipython",
    "version": 3
   },
   "file_extension": ".py",
   "mimetype": "text/x-python",
   "name": "python",
   "nbconvert_exporter": "python",
   "pygments_lexer": "ipython3",
   "version": "3.8.8"
  },
  "toc": {
   "base_numbering": 1,
   "nav_menu": {},
   "number_sections": true,
   "sideBar": true,
   "skip_h1_title": false,
   "title_cell": "Table of Contents",
   "title_sidebar": "Contents",
   "toc_cell": false,
   "toc_position": {},
   "toc_section_display": true,
   "toc_window_display": false
  }
 },
 "nbformat": 4,
 "nbformat_minor": 5
}
